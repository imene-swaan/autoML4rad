{
 "cells": [
  {
   "cell_type": "code",
   "execution_count": 5,
   "metadata": {},
   "outputs": [],
   "source": [
    "import os\n",
    "import numpy as np\n",
    "import json\n",
    "import glob\n",
    "from loaddata import loaddata\n",
    "import cv2\n",
    "\n",
    "\n",
    "\n",
    "f = open('../results/week5/standard-parameters-results.json')\n",
    "h = json.load(f)\n",
    "\n",
    "\n",
    "par = ['bag','lr', 'depth', 'batch', 'rounds']\n",
    "n_samples=[]\n",
    "n_features=[]\n",
    "hyperparameters={k:[] for k in par}\n",
    "\n",
    "\n",
    "for k,v in h.items():\n",
    "    \n",
    "\n",
    "    (x_train0, y_train), (x_test0, y_test) = loaddata(k)\n",
    "    samples = x_test0.shape[0]\n",
    "    features = x_test0.shape[1]\n",
    "\n",
    "    n_samples.append(samples)\n",
    "    n_features.append(features)\n",
    "\n",
    "    img1 = cv2.imread(\"Path to image 1\",0)\n",
    "    img2 = cv2.imread(\"Path to image 2\",0)\n",
    "\n",
    "\n"
   ]
  },
  {
   "cell_type": "code",
   "execution_count": 6,
   "metadata": {},
   "outputs": [
    {
     "data": {
      "text/plain": [
       "{'fashion0': 0.8863260000000001,\n",
       " 'har': 0.9066469498854779,\n",
       " 'Liver_1': 0.5137912385073012,\n",
       " 'pima': 0.6386222222222222,\n",
       " 'breastw': 0.9531347164904743,\n",
       " 'cover': 0.6349186702533751,\n",
       " 'steel-plates-fault': 0.6116666666666666,\n",
       " 'optdigits': 0.9155555555555556,\n",
       " 'Diabetes_present': 0.6218666666666667,\n",
       " 'wbc': 0.9727891156462586}"
      ]
     },
     "execution_count": 6,
     "metadata": {},
     "output_type": "execute_result"
    }
   ],
   "source": [
    "h"
   ]
  },
  {
   "cell_type": "code",
   "execution_count": 16,
   "metadata": {},
   "outputs": [
    {
     "data": {
      "text/plain": [
       "array([[1.        , 0.98386991],\n",
       "       [0.98386991, 1.        ]])"
      ]
     },
     "execution_count": 16,
     "metadata": {},
     "output_type": "execute_result"
    }
   ],
   "source": [
    "import scipy.spatial as sp\n",
    "a = 1 - sp.distance.cdist(mat, tam, 'cosine')"
   ]
  },
  {
   "cell_type": "code",
   "execution_count": 58,
   "metadata": {},
   "outputs": [
    {
     "data": {
      "text/plain": [
       "array([[1, 2, 3],\n",
       "       [1, 4, 5]])"
      ]
     },
     "execution_count": 58,
     "metadata": {},
     "output_type": "execute_result"
    }
   ],
   "source": [
    "mat = np.array([[1,2,3], [1,4,5]])\n",
    "mat"
   ]
  },
  {
   "cell_type": "code",
   "execution_count": 59,
   "metadata": {},
   "outputs": [
    {
     "data": {
      "text/plain": [
       "array([[ 1,  2, 10],\n",
       "       [ 3, -4,  2],\n",
       "       [ 0,  0,  0]])"
      ]
     },
     "execution_count": 59,
     "metadata": {},
     "output_type": "execute_result"
    }
   ],
   "source": [
    "tam = np.array([[1,2,10], [3,-4,2], [0,0,0]])\n",
    "tam"
   ]
  },
  {
   "cell_type": "code",
   "execution_count": null,
   "metadata": {},
   "outputs": [],
   "source": []
  }
 ],
 "metadata": {
  "kernelspec": {
   "display_name": "imenepy",
   "language": "python",
   "name": "python3"
  },
  "language_info": {
   "codemirror_mode": {
    "name": "ipython",
    "version": 3
   },
   "file_extension": ".py",
   "mimetype": "text/x-python",
   "name": "python",
   "nbconvert_exporter": "python",
   "pygments_lexer": "ipython3",
   "version": "3.10.9"
  },
  "orig_nbformat": 4,
  "vscode": {
   "interpreter": {
    "hash": "f75247e32b011659c1a890d617d6d2e23653a1084340a8c96b0dbaca48785d27"
   }
  }
 },
 "nbformat": 4,
 "nbformat_minor": 2
}
